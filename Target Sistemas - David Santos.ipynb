{
  "nbformat": 4,
  "nbformat_minor": 0,
  "metadata": {
    "colab": {
      "provenance": []
    },
    "kernelspec": {
      "name": "python3",
      "display_name": "Python 3"
    },
    "language_info": {
      "name": "python"
    }
  },
  "cells": [
    {
      "cell_type": "markdown",
      "source": [
        "# Questão 1"
      ],
      "metadata": {
        "id": "Sn92ea6XfmKg"
      }
    },
    {
      "cell_type": "markdown",
      "source": [
        "Dado a sequência de Fibonacci, onde se inicia por 0 e 1 e o próximo valor sempre será a soma dos 2 valores anteriores (exemplo: 0, 1, 1, 2, 3, 5, 8, 13, 21, 34...), escreva um programa na linguagem que desejar onde, informado um número, ele calcule a sequência de Fibonacci e retorne uma mensagem avisando se o número informado pertence ou não a sequência."
      ],
      "metadata": {
        "id": "yVk3Bsqmfjtf"
      }
    },
    {
      "cell_type": "code",
      "execution_count": 33,
      "metadata": {
        "id": "XDD7rF4kffJF"
      },
      "outputs": [],
      "source": [
        "# Função que recebe um número inteiro e devolve um booleano indicando se pertece ou não a sequência de Fibonacci\n",
        "\n",
        "def verifica(num: int):\n",
        "  soma = 0\n",
        "  a = -1\n",
        "  b = 1\n",
        "  while(soma <= num):\n",
        "    soma = a + b\n",
        "    if(soma == num):\n",
        "      return True\n",
        "    a = b\n",
        "    b = soma\n",
        "  return False"
      ]
    },
    {
      "cell_type": "code",
      "source": [
        "num = int(input(\"Qual número inteiro deseja verificar se pertence a sequência de Fibonacci? \"))\n",
        "\n",
        "if(verifica(num)):\n",
        "  print(f\"O número {num} faz parte da sequência de Fibonacci.\")\n",
        "else:\n",
        "  print(f\"O número {num} não faz parte da sequência de Fibonacci.\")"
      ],
      "metadata": {
        "colab": {
          "base_uri": "https://localhost:8080/"
        },
        "id": "1ayb7Z8QgPp8",
        "outputId": "123a42fa-3222-4792-8958-2ea6f1bc49de"
      },
      "execution_count": 34,
      "outputs": [
        {
          "output_type": "stream",
          "name": "stdout",
          "text": [
            "Qual número inteiro deseja verificar se pertence a sequência de Fibonacci? 8\n",
            "O número 8 faz parte da sequência de Fibonacci.\n"
          ]
        }
      ]
    },
    {
      "cell_type": "markdown",
      "source": [
        "# Questão 2"
      ],
      "metadata": {
        "id": "pVFAnGrVjr9X"
      }
    },
    {
      "cell_type": "markdown",
      "source": [
        "2) Escreva um programa que verifique, em uma string, a existência da letra ‘a’, seja maiúscula ou minúscula, além de informar a quantidade de vezes em que ela ocorre.\n"
      ],
      "metadata": {
        "id": "Q9VjO_EXj6E0"
      }
    },
    {
      "cell_type": "code",
      "source": [
        "# Função que recebe uma string e retorna uma tupla de formato (Bool, Int) informando se possui ou não letra A e a quantidade encontrada\n",
        "\n",
        "def quantidadeA(string: str):\n",
        "  string = string.lower()\n",
        "\n",
        "  if 'a' in string:\n",
        "    qtd = string.count('a')\n",
        "    return (True, qtd)\n",
        "  else:\n",
        "    return (False, 0)"
      ],
      "metadata": {
        "id": "xhf7085Xjw8a"
      },
      "execution_count": 35,
      "outputs": []
    },
    {
      "cell_type": "code",
      "source": [
        "texto = input(\"Digite uma string: \")\n",
        "ocorrencias = quantidadeA(texto)\n",
        "\n",
        "if ocorrencias[0]:\n",
        "  print(f\"A letra 'a' existe na string e ela aparece {ocorrencias[1]} vezes.\")\n",
        "else:\n",
        "  print(\"A letra 'a' não existe na string informada.\")"
      ],
      "metadata": {
        "colab": {
          "base_uri": "https://localhost:8080/"
        },
        "id": "mlew3JnlkYgW",
        "outputId": "b0040cff-dbe4-4dc3-92ec-cde4008dcc7b"
      },
      "execution_count": 36,
      "outputs": [
        {
          "output_type": "stream",
          "name": "stdout",
          "text": [
            "Digite uma string: Papel é QuAdrAdo!\n",
            "A letra 'a' existe na string e ela aparece 3 vezes.\n"
          ]
        }
      ]
    }
  ]
}